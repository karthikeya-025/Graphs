{
 "cells": [
  {
   "cell_type": "markdown",
   "id": "3f8539dd",
   "metadata": {},
   "source": [
    "# Breadth First Traversal for a Graph"
   ]
  },
  {
   "cell_type": "code",
   "execution_count": null,
   "id": "c26989b0",
   "metadata": {},
   "outputs": [],
   "source": [
    "def bfs(vertex,graph):\n",
    "    visited = set()\n",
    "    visited.add(vertex)\n",
    "    queue = [vertex]\n",
    "    \n",
    "    while queue:\n",
    "        current = queue.pop(0)\n",
    "        print(current)\n",
    "        for vert in graph[current]:\n",
    "            if vert not in visited:\n",
    "                visited.add(vert)\n",
    "                queue.append(vert)\n",
    "        "
   ]
  },
  {
   "cell_type": "markdown",
   "id": "7d02f4c9",
   "metadata": {},
   "source": [
    "# Depth First Traversal for a Graph"
   ]
  },
  {
   "cell_type": "code",
   "execution_count": null,
   "id": "7e9d2c49",
   "metadata": {},
   "outputs": [],
   "source": [
    "def dfs(vertex,graph):\n",
    "    visited = set()\n",
    "    stack = [vertex]\n",
    "    while stack:\n",
    "        current = stack.pop()\n",
    "        if current not in visited:\n",
    "            print(current)\n",
    "            visited.add(current)\n",
    "        for vert in graph[current]:\n",
    "            if vert not in visited:\n",
    "                stack.append(vert)\n",
    "                "
   ]
  },
  {
   "cell_type": "markdown",
   "id": "a9142984",
   "metadata": {},
   "source": [
    "# Count the number of nodes at given level in a tree using BFS"
   ]
  },
  {
   "cell_type": "code",
   "execution_count": 1,
   "id": "1c464431",
   "metadata": {},
   "outputs": [],
   "source": [
    "def level_count_of_tree(tree,level):\n",
    "    if tree is None:\n",
    "        return False\n",
    "    queue = [tree]\n",
    "    counter = 0\n",
    "    current_level = 0\n",
    "    \n",
    "    while queue:\n",
    "        current = queue.pop(0)\n",
    "        if current_level == level:\n",
    "            counter +=1\n",
    "        for i in current.children:\n",
    "            queue.append(i)\n",
    "    return counter\n",
    "        "
   ]
  },
  {
   "cell_type": "markdown",
   "id": "ee21686c",
   "metadata": {},
   "source": [
    "# Count number of trees in a forest"
   ]
  },
  {
   "cell_type": "code",
   "execution_count": 2,
   "id": "4b940b45",
   "metadata": {},
   "outputs": [],
   "source": [
    "def trees_in_forest(node,tree):\n",
    "    visited = set()\n",
    "    stack = [node]\n",
    "    counter = 0\n",
    "    while stack:\n",
    "        current = stack.pop()\n",
    "        if current not in visited:\n",
    "            visited.add(current)\n",
    "        for i in graph[current]:\n",
    "            if i not in visited:\n",
    "                visited.add(i)\n",
    "                counter += 1\n",
    "    return counter"
   ]
  },
  {
   "cell_type": "markdown",
   "id": "575efa31",
   "metadata": {},
   "source": [
    "# Detect Cycle in a Directed Graph"
   ]
  },
  {
   "cell_type": "code",
   "execution_count": null,
   "id": "0bb2fcbc",
   "metadata": {},
   "outputs": [],
   "source": [
    "def cycles(vertex,graph):\n",
    "    visited = set()\n",
    "    stack = [vertex]\n",
    "    while stack:\n",
    "        current = stack.pop()\n",
    "        if current in visited:\n",
    "            return True\n",
    "        for i in graph[current]:\n",
    "            if i not in visited:\n",
    "                visited.add(i)\n",
    "                stack.append(i)\n",
    "    return False"
   ]
  }
 ],
 "metadata": {
  "kernelspec": {
   "display_name": "Python 3 (ipykernel)",
   "language": "python",
   "name": "python3"
  },
  "language_info": {
   "codemirror_mode": {
    "name": "ipython",
    "version": 3
   },
   "file_extension": ".py",
   "mimetype": "text/x-python",
   "name": "python",
   "nbconvert_exporter": "python",
   "pygments_lexer": "ipython3",
   "version": "3.10.9"
  }
 },
 "nbformat": 4,
 "nbformat_minor": 5
}
